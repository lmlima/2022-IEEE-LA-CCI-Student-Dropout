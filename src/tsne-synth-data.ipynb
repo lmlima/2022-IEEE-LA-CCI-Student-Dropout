{
 "cells": [
  {
   "cell_type": "code",
   "execution_count": 27,
   "metadata": {},
   "outputs": [],
   "source": [
    "import numpy as np\n",
    "import pandas as pd\n",
    "import pathlib\n",
    "from sklearn.preprocessing import OneHotEncoder\n",
    "\n",
    "import models.pipelineLibrary\n",
    "import models.utilsCode"
   ]
  },
  {
   "cell_type": "code",
   "execution_count": 2,
   "metadata": {
    "pycharm": {
     "name": "#%%\n"
    }
   },
   "outputs": [],
   "source": [
    "#Parameters\n",
    "seed = 1\n",
    "\n",
    "train_validation_perc = 0.7\n",
    "window = 4\n",
    "\n",
    "\n",
    "input_filename = '../../dados_anon_fulldataset.csv'\n",
    "input_filename = \"../../dados10000.csv\""
   ]
  },
  {
   "cell_type": "code",
   "execution_count": 3,
   "metadata": {
    "pycharm": {
     "name": "#%%\n"
    }
   },
   "outputs": [],
   "source": [
    "models.utilsCode.set_seed(seed)"
   ]
  },
  {
   "cell_type": "code",
   "execution_count": 4,
   "metadata": {
    "scrolled": true
   },
   "outputs": [],
   "source": [
    "df = pd.read_csv(input_filename)"
   ]
  },
  {
   "cell_type": "code",
   "execution_count": 5,
   "metadata": {},
   "outputs": [],
   "source": [
    "df = df.drop(columns=['Unnamed: 0'])\\\n",
    "        .drop_duplicates()\\\n",
    "        .copy()"
   ]
  },
  {
   "cell_type": "code",
   "execution_count": 6,
   "metadata": {
    "pycharm": {
     "name": "#%%\n"
    }
   },
   "outputs": [],
   "source": [
    "new_state = True\n",
    "alunos_list = df['ID_CURSO_ALUNO'].unique()\n",
    "if (new_state):\n",
    "    alunos_train_validation = np.random.choice(len(alunos_list), size=int(len(alunos_list)*train_validation_perc), replace=False)\n",
    "    np.save('random_state_.npy', alunos_train_validation)\n",
    "else:\n",
    "    alunos_train_validation = np.load('random_state_.npy')\n",
    "data_train_validation_ = df[df['ID_CURSO_ALUNO'].isin(alunos_list[alunos_train_validation])]\n",
    "data_test_ = df[~df['ID_CURSO_ALUNO'].isin(alunos_list[alunos_train_validation])]\n",
    "\n",
    "alunos_list_train_validation = data_train_validation_['ID_CURSO_ALUNO'].unique()\n",
    "alunos_list_test = data_test_['ID_CURSO_ALUNO'].unique()\n",
    "\n",
    "# Train data\n",
    "data_train = df[df['ID_CURSO_ALUNO'].isin(alunos_list_train_validation)]\n",
    "# Test data\n",
    "data_test = df[df['ID_CURSO_ALUNO'].isin(alunos_list_test)]\n"
   ]
  },
  {
   "cell_type": "code",
   "execution_count": 7,
   "metadata": {
    "pycharm": {
     "name": "#%%\n"
    }
   },
   "outputs": [],
   "source": [
    "# Preprocess\n",
    "# Train data\n",
    "time_series_dataframe, np_estatico, labels = models.pipelineLibrary.pipe_default.fit_transform(data_train)\n",
    "np_series_lstm = models.pipelineLibrary.pipe_lstm.fit_transform(time_series_dataframe)\n",
    "\n",
    "np_dinamico_linear = np_series_lstm.reshape(np_series_lstm.shape[0],-1)\n",
    "np_data = np.concatenate((np_estatico,np_dinamico_linear),axis=1)\n",
    "\n",
    "# Save np_series_lstm, np_estatico, labels\n",
    "np.savez('orig_train_syn_data.npz', np_series_lstm=np_series_lstm, np_estatico=np_estatico, label=labels)\n",
    "\n",
    "# Test data\n",
    "time_series_dataframe_test, np_estatico_test, label_test = models.pipelineLibrary.pipe_default.transform(data_test)\n",
    "np_series_lstm_test = models.pipelineLibrary.pipe_lstm.transform(time_series_dataframe_test)\n",
    "# Save np_series_lstm_test, np_estatico_test, label_test\n",
    "np.savez('test_syn_data.npz', np_series_lstm=np_series_lstm_test, np_estatico=np_estatico_test, label=label_test)"
   ]
  },
  {
   "cell_type": "code",
   "execution_count": 8,
   "metadata": {},
   "outputs": [
    {
     "name": "stdout",
     "output_type": "stream",
     "text": [
      "(118, 4, 23)\n",
      "(118, 92)\n",
      "(118, 14)\n"
     ]
    }
   ],
   "source": [
    "print(np_series_lstm.shape)\n",
    "\n",
    "print(np_dinamico_linear.shape)\n",
    "print(np_estatico.shape)\n"
   ]
  },
  {
   "cell_type": "code",
   "execution_count": 50,
   "metadata": {},
   "outputs": [],
   "source": [
    "new_labels = labels.copy()\n",
    "enc = OneHotEncoder(dtype=int)\n",
    "enc.fit(new_labels)\n",
    "new_labels = enc.transform(new_labels).toarray()"
   ]
  },
  {
   "cell_type": "code",
   "execution_count": 51,
   "metadata": {},
   "outputs": [],
   "source": [
    "r_np_estatico = np.repeat(np_estatico, repeats=window, axis=0)\n",
    "r3d_np_estatico = r_np_estatico.reshape(-1, window, np_estatico.shape[1])\n"
   ]
  },
  {
   "cell_type": "code",
   "execution_count": 52,
   "metadata": {},
   "outputs": [
    {
     "data": {
      "text/plain": [
       "(118, 4, 37)"
      ]
     },
     "execution_count": 52,
     "metadata": {},
     "output_type": "execute_result"
    }
   ],
   "source": [
    "# Concatenate static features data in each step tail\n",
    "np_series = np.concatenate((np_series_lstm, r3d_np_estatico), axis=2)\n",
    "np_series.shape"
   ]
  },
  {
   "cell_type": "code",
   "execution_count": 53,
   "metadata": {},
   "outputs": [],
   "source": [
    "[ensem_dat0, ensem_dat1, ensem_dat2,\n",
    " ensem_dat3, ensem_dat4, ensem_dat5,\n",
    " ensem_dat6, ensem_dat7, ensem_dat8, ensem_dat9] = np.array_split(np_series_lstm, 10)\n",
    "\n",
    "[ensem_lab0, ensem_lab1, ensem_lab2,\n",
    " ensem_lab3, ensem_lab4, ensem_lab5,\n",
    " ensem_lab6, ensem_lab7, ensem_lab8, ensem_lab9] = np.array_split(new_labels, 10)"
   ]
  },
  {
   "cell_type": "code",
   "execution_count": 28,
   "metadata": {},
   "outputs": [],
   "source": [
    "pathlib.Path('ensem').mkdir(parents=True, exist_ok=True) \n",
    "\n",
    "np.save('ensem/ensem_dat0.npy', ensem_dat0)\n",
    "np.save('ensem/ensem_lab0.npy', ensem_lab0)\n",
    "\n",
    "np.save('ensem/ensem_dat1.npy', ensem_dat1)\n",
    "np.save('ensem/ensem_lab1.npy', ensem_lab1)\n",
    "\n",
    "np.save('ensem/ensem_dat2.npy', ensem_dat2)\n",
    "np.save('ensem/ensem_lab2.npy', ensem_lab2)\n",
    "\n",
    "np.save('ensem/ensem_dat3.npy', ensem_dat3)\n",
    "np.save('ensem/ensem_lab3.npy', ensem_lab3)\n",
    "\n",
    "np.save('ensem/ensem_dat4.npy', ensem_dat4)\n",
    "np.save('ensem/ensem_lab4.npy', ensem_lab4)\n",
    "\n",
    "np.save('ensem/ensem_dat5.npy', ensem_dat5)\n",
    "np.save('ensem/ensem_lab5.npy', ensem_lab5)\n",
    "\n",
    "np.save('ensem/ensem_dat6.npy', ensem_dat6)\n",
    "np.save('ensem/ensem_lab6.npy', ensem_lab6)\n",
    "\n",
    "np.save('ensem/ensem_dat7.npy', ensem_dat7)\n",
    "np.save('ensem/ensem_lab7.npy', ensem_lab7)\n",
    "\n",
    "np.save('ensem/ensem_dat8.npy', ensem_dat8)\n",
    "np.save('ensem/ensem_lab8.npy', ensem_lab8)\n",
    "\n",
    "np.save('ensem/ensem_dat9.npy', ensem_dat9)\n",
    "np.save('ensem/ensem_lab9.npy', ensem_lab9)"
   ]
  },
  {
   "cell_type": "code",
   "execution_count": 29,
   "metadata": {},
   "outputs": [],
   "source": [
    "np.save('ensem/np_series_lstm.npy', np_series_lstm)"
   ]
  },
  {
   "cell_type": "code",
   "execution_count": 30,
   "metadata": {},
   "outputs": [
    {
     "ename": "Exception",
     "evalue": "File `'imbalanced-sequence-classification-master/run_autoenc.py'` not found.",
     "output_type": "error",
     "traceback": [
      "\u001B[0;31m---------------------------------------------------------------------------\u001B[0m",
      "\u001B[0;31mOSError\u001B[0m                                   Traceback (most recent call last)",
      "\u001B[0;32m~/anaconda3/envs/IJCNN2021/lib/python3.8/site-packages/IPython/core/magics/execution.py\u001B[0m in \u001B[0;36mrun\u001B[0;34m(self, parameter_s, runner, file_finder)\u001B[0m\n\u001B[1;32m    702\u001B[0m             \u001B[0mfpath\u001B[0m \u001B[0;34m=\u001B[0m \u001B[0marg_lst\u001B[0m\u001B[0;34m[\u001B[0m\u001B[0;36m0\u001B[0m\u001B[0;34m]\u001B[0m\u001B[0;34m\u001B[0m\u001B[0;34m\u001B[0m\u001B[0m\n\u001B[0;32m--> 703\u001B[0;31m             \u001B[0mfilename\u001B[0m \u001B[0;34m=\u001B[0m \u001B[0mfile_finder\u001B[0m\u001B[0;34m(\u001B[0m\u001B[0mfpath\u001B[0m\u001B[0;34m)\u001B[0m\u001B[0;34m\u001B[0m\u001B[0;34m\u001B[0m\u001B[0m\n\u001B[0m\u001B[1;32m    704\u001B[0m         \u001B[0;32mexcept\u001B[0m \u001B[0mIndexError\u001B[0m\u001B[0;34m:\u001B[0m\u001B[0;34m\u001B[0m\u001B[0;34m\u001B[0m\u001B[0m\n",
      "\u001B[0;32m~/anaconda3/envs/IJCNN2021/lib/python3.8/site-packages/IPython/utils/path.py\u001B[0m in \u001B[0;36mget_py_filename\u001B[0;34m(name, force_win32)\u001B[0m\n\u001B[1;32m    108\u001B[0m     \u001B[0;32melse\u001B[0m\u001B[0;34m:\u001B[0m\u001B[0;34m\u001B[0m\u001B[0;34m\u001B[0m\u001B[0m\n\u001B[0;32m--> 109\u001B[0;31m         \u001B[0;32mraise\u001B[0m \u001B[0mIOError\u001B[0m\u001B[0;34m(\u001B[0m\u001B[0;34m'File `%r` not found.'\u001B[0m \u001B[0;34m%\u001B[0m \u001B[0mname\u001B[0m\u001B[0;34m)\u001B[0m\u001B[0;34m\u001B[0m\u001B[0;34m\u001B[0m\u001B[0m\n\u001B[0m\u001B[1;32m    110\u001B[0m \u001B[0;34m\u001B[0m\u001B[0m\n",
      "\u001B[0;31mOSError\u001B[0m: File `'imbalanced-sequence-classification-master/run_autoenc.py'` not found.",
      "\nDuring handling of the above exception, another exception occurred:\n",
      "\u001B[0;31mException\u001B[0m                                 Traceback (most recent call last)",
      "\u001B[0;32m<ipython-input-30-e7c01aaa3217>\u001B[0m in \u001B[0;36m<module>\u001B[0;34m\u001B[0m\n\u001B[0;32m----> 1\u001B[0;31m \u001B[0mget_ipython\u001B[0m\u001B[0;34m(\u001B[0m\u001B[0;34m)\u001B[0m\u001B[0;34m.\u001B[0m\u001B[0mrun_line_magic\u001B[0m\u001B[0;34m(\u001B[0m\u001B[0;34m'run'\u001B[0m\u001B[0;34m,\u001B[0m \u001B[0;34m'imbalanced-sequence-classification-master/run_autoenc.py ensem/np_series_lstm.npy teste1 Power'\u001B[0m\u001B[0;34m)\u001B[0m\u001B[0;34m\u001B[0m\u001B[0;34m\u001B[0m\u001B[0m\n\u001B[0m",
      "\u001B[0;32m~/anaconda3/envs/IJCNN2021/lib/python3.8/site-packages/IPython/core/interactiveshell.py\u001B[0m in \u001B[0;36mrun_line_magic\u001B[0;34m(self, magic_name, line, _stack_depth)\u001B[0m\n\u001B[1;32m   2325\u001B[0m                 \u001B[0mkwargs\u001B[0m\u001B[0;34m[\u001B[0m\u001B[0;34m'local_ns'\u001B[0m\u001B[0;34m]\u001B[0m \u001B[0;34m=\u001B[0m \u001B[0mself\u001B[0m\u001B[0;34m.\u001B[0m\u001B[0mget_local_scope\u001B[0m\u001B[0;34m(\u001B[0m\u001B[0mstack_depth\u001B[0m\u001B[0;34m)\u001B[0m\u001B[0;34m\u001B[0m\u001B[0;34m\u001B[0m\u001B[0m\n\u001B[1;32m   2326\u001B[0m             \u001B[0;32mwith\u001B[0m \u001B[0mself\u001B[0m\u001B[0;34m.\u001B[0m\u001B[0mbuiltin_trap\u001B[0m\u001B[0;34m:\u001B[0m\u001B[0;34m\u001B[0m\u001B[0;34m\u001B[0m\u001B[0m\n\u001B[0;32m-> 2327\u001B[0;31m                 \u001B[0mresult\u001B[0m \u001B[0;34m=\u001B[0m \u001B[0mfn\u001B[0m\u001B[0;34m(\u001B[0m\u001B[0;34m*\u001B[0m\u001B[0margs\u001B[0m\u001B[0;34m,\u001B[0m \u001B[0;34m**\u001B[0m\u001B[0mkwargs\u001B[0m\u001B[0;34m)\u001B[0m\u001B[0;34m\u001B[0m\u001B[0;34m\u001B[0m\u001B[0m\n\u001B[0m\u001B[1;32m   2328\u001B[0m             \u001B[0;32mreturn\u001B[0m \u001B[0mresult\u001B[0m\u001B[0;34m\u001B[0m\u001B[0;34m\u001B[0m\u001B[0m\n\u001B[1;32m   2329\u001B[0m \u001B[0;34m\u001B[0m\u001B[0m\n",
      "\u001B[0;32m<decorator-gen-52>\u001B[0m in \u001B[0;36mrun\u001B[0;34m(self, parameter_s, runner, file_finder)\u001B[0m\n",
      "\u001B[0;32m~/anaconda3/envs/IJCNN2021/lib/python3.8/site-packages/IPython/core/magic.py\u001B[0m in \u001B[0;36m<lambda>\u001B[0;34m(f, *a, **k)\u001B[0m\n\u001B[1;32m    185\u001B[0m     \u001B[0;31m# but it's overkill for just that one bit of state.\u001B[0m\u001B[0;34m\u001B[0m\u001B[0;34m\u001B[0m\u001B[0;34m\u001B[0m\u001B[0m\n\u001B[1;32m    186\u001B[0m     \u001B[0;32mdef\u001B[0m \u001B[0mmagic_deco\u001B[0m\u001B[0;34m(\u001B[0m\u001B[0marg\u001B[0m\u001B[0;34m)\u001B[0m\u001B[0;34m:\u001B[0m\u001B[0;34m\u001B[0m\u001B[0;34m\u001B[0m\u001B[0m\n\u001B[0;32m--> 187\u001B[0;31m         \u001B[0mcall\u001B[0m \u001B[0;34m=\u001B[0m \u001B[0;32mlambda\u001B[0m \u001B[0mf\u001B[0m\u001B[0;34m,\u001B[0m \u001B[0;34m*\u001B[0m\u001B[0ma\u001B[0m\u001B[0;34m,\u001B[0m \u001B[0;34m**\u001B[0m\u001B[0mk\u001B[0m\u001B[0;34m:\u001B[0m \u001B[0mf\u001B[0m\u001B[0;34m(\u001B[0m\u001B[0;34m*\u001B[0m\u001B[0ma\u001B[0m\u001B[0;34m,\u001B[0m \u001B[0;34m**\u001B[0m\u001B[0mk\u001B[0m\u001B[0;34m)\u001B[0m\u001B[0;34m\u001B[0m\u001B[0;34m\u001B[0m\u001B[0m\n\u001B[0m\u001B[1;32m    188\u001B[0m \u001B[0;34m\u001B[0m\u001B[0m\n\u001B[1;32m    189\u001B[0m         \u001B[0;32mif\u001B[0m \u001B[0mcallable\u001B[0m\u001B[0;34m(\u001B[0m\u001B[0marg\u001B[0m\u001B[0;34m)\u001B[0m\u001B[0;34m:\u001B[0m\u001B[0;34m\u001B[0m\u001B[0;34m\u001B[0m\u001B[0m\n",
      "\u001B[0;32m~/anaconda3/envs/IJCNN2021/lib/python3.8/site-packages/IPython/core/magics/execution.py\u001B[0m in \u001B[0;36mrun\u001B[0;34m(self, parameter_s, runner, file_finder)\u001B[0m\n\u001B[1;32m    712\u001B[0m             \u001B[0;32mif\u001B[0m \u001B[0mos\u001B[0m\u001B[0;34m.\u001B[0m\u001B[0mname\u001B[0m \u001B[0;34m==\u001B[0m \u001B[0;34m'nt'\u001B[0m \u001B[0;32mand\u001B[0m \u001B[0mre\u001B[0m\u001B[0;34m.\u001B[0m\u001B[0mmatch\u001B[0m\u001B[0;34m(\u001B[0m\u001B[0;34mr\"^'.*'$\"\u001B[0m\u001B[0;34m,\u001B[0m\u001B[0mfpath\u001B[0m\u001B[0;34m)\u001B[0m\u001B[0;34m:\u001B[0m\u001B[0;34m\u001B[0m\u001B[0;34m\u001B[0m\u001B[0m\n\u001B[1;32m    713\u001B[0m                 \u001B[0mwarn\u001B[0m\u001B[0;34m(\u001B[0m\u001B[0;34m'For Windows, use double quotes to wrap a filename: %run \"mypath\\\\myfile.py\"'\u001B[0m\u001B[0;34m)\u001B[0m\u001B[0;34m\u001B[0m\u001B[0;34m\u001B[0m\u001B[0m\n\u001B[0;32m--> 714\u001B[0;31m             \u001B[0;32mraise\u001B[0m \u001B[0mException\u001B[0m\u001B[0;34m(\u001B[0m\u001B[0mmsg\u001B[0m\u001B[0;34m)\u001B[0m\u001B[0;34m\u001B[0m\u001B[0;34m\u001B[0m\u001B[0m\n\u001B[0m\u001B[1;32m    715\u001B[0m         \u001B[0;32mexcept\u001B[0m \u001B[0mTypeError\u001B[0m\u001B[0;34m:\u001B[0m\u001B[0;34m\u001B[0m\u001B[0;34m\u001B[0m\u001B[0m\n\u001B[1;32m    716\u001B[0m             \u001B[0;32mif\u001B[0m \u001B[0mfpath\u001B[0m \u001B[0;32min\u001B[0m \u001B[0msys\u001B[0m\u001B[0;34m.\u001B[0m\u001B[0mmeta_path\u001B[0m\u001B[0;34m:\u001B[0m\u001B[0;34m\u001B[0m\u001B[0;34m\u001B[0m\u001B[0m\n",
      "\u001B[0;31mException\u001B[0m: File `'imbalanced-sequence-classification-master/run_autoenc.py'` not found."
     ]
    }
   ],
   "source": [
    "%run imbalanced-sequence-classification-master/run_autoenc.py ensem/np_series_lstm.npy teste1 Power"
   ]
  },
  {
   "cell_type": "code",
   "execution_count": null,
   "metadata": {},
   "outputs": [],
   "source": [
    "%run imbalanced-sequence-classification-master/get_autoenc_adasyn_synthetic.py ensem/ teste1_autoenc-out/ teste1 Power"
   ]
  },
  {
   "cell_type": "code",
   "execution_count": null,
   "metadata": {},
   "outputs": [],
   "source": [
    "synth_dat0 = np.load('teste1_autoenc_syn_adasyn_ensem/ensem_dat0.npy')\n",
    "synth_lab0 = np.load('teste1_autoenc_syn_adasyn_ensem/ensem_lab0.npy')\n",
    "\n",
    "synth_dat1 = np.load('teste1_autoenc_syn_adasyn_ensem/ensem_dat1.npy')\n",
    "synth_lab1 = np.load('teste1_autoenc_syn_adasyn_ensem/ensem_lab1.npy')\n",
    "\n",
    "synth_dat2 = np.load('teste1_autoenc_syn_adasyn_ensem/ensem_dat2.npy')\n",
    "synth_lab2 = np.load('teste1_autoenc_syn_adasyn_ensem/ensem_lab2.npy')\n",
    "\n",
    "synth_dat3 = np.load('teste1_autoenc_syn_adasyn_ensem/ensem_dat3.npy')\n",
    "synth_lab3 = np.load('teste1_autoenc_syn_adasyn_ensem/ensem_lab3.npy')\n",
    "\n",
    "synth_dat4 = np.load('teste1_autoenc_syn_adasyn_ensem/ensem_dat4.npy')\n",
    "synth_lab4 = np.load('teste1_autoenc_syn_adasyn_ensem/ensem_lab4.npy')\n",
    "\n",
    "synth_dat5 = np.load('teste1_autoenc_syn_adasyn_ensem/ensem_dat5.npy')\n",
    "synth_lab5 = np.load('teste1_autoenc_syn_adasyn_ensem/ensem_lab5.npy')\n",
    "\n",
    "synth_dat6 = np.load('teste1_autoenc_syn_adasyn_ensem/ensem_dat6.npy')\n",
    "synth_lab6 = np.load('teste1_autoenc_syn_adasyn_ensem/ensem_lab6.npy')\n",
    "\n",
    "synth_dat7 = np.load('teste1_autoenc_syn_adasyn_ensem/ensem_dat7.npy')\n",
    "synth_lab7 = np.load('teste1_autoenc_syn_adasyn_ensem/ensem_lab7.npy')\n",
    "\n",
    "synth_dat8 = np.load('teste1_autoenc_syn_adasyn_ensem/ensem_dat8.npy')\n",
    "synth_lab8 = np.load('teste1_autoenc_syn_adasyn_ensem/ensem_lab8.npy')"
   ]
  },
  {
   "cell_type": "code",
   "execution_count": null,
   "metadata": {},
   "outputs": [],
   "source": [
    "np_labels = np.delete(new_labels, 0, 1)\n",
    "np_labels"
   ]
  },
  {
   "cell_type": "code",
   "execution_count": null,
   "metadata": {},
   "outputs": [],
   "source": [
    "synth_lab0 = np.delete(synth_lab0, 0, 1)\n",
    "\n",
    "synth_lab1 = np.delete(synth_lab1, 0, 1)\n",
    "\n",
    "synth_lab2 = np.delete(synth_lab2, 0, 1)\n",
    "\n",
    "synth_lab3 = np.delete(synth_lab3, 0, 1)\n",
    "\n",
    "synth_lab4 = np.delete(synth_lab4, 0, 1)\n",
    "\n",
    "synth_lab5 = np.delete(synth_lab5, 0, 1)\n",
    "\n",
    "synth_lab6 = np.delete(synth_lab6, 0, 1)\n",
    "\n",
    "synth_lab7 = np.delete(synth_lab7, 0, 1)\n",
    "\n",
    "synth_lab8 = np.delete(synth_lab8, 0, 1)"
   ]
  },
  {
   "cell_type": "code",
   "execution_count": null,
   "metadata": {},
   "outputs": [],
   "source": [
    "np_synth = np.concatenate((np_series_lstm, synth_dat0, synth_dat1,\n",
    "                           synth_dat2, synth_dat3, synth_dat4,\n",
    "                           synth_dat5, synth_dat6, synth_dat7, synth_dat8), axis=0)\n",
    "np_synth_labels = np.concatenate((np_labels, synth_lab0, synth_lab1,\n",
    "                                  synth_lab2, synth_lab3, synth_lab4,\n",
    "                                  synth_lab5, synth_lab6, synth_lab7, synth_lab8), axis=0)\n"
   ]
  },
  {
   "cell_type": "code",
   "execution_count": null,
   "metadata": {
    "pycharm": {
     "name": "#%%\n"
    }
   },
   "outputs": [],
   "source": [
    "np_synth_linear = np_synth.reshape(np_synth.shape[0], -1)"
   ]
  },
  {
   "cell_type": "code",
   "execution_count": null,
   "metadata": {
    "pycharm": {
     "name": "#%%\n"
    }
   },
   "outputs": [],
   "source": [
    "np.save('np_synth.npy', np_synth)\n",
    "np.save('np_synth_linear.npy', np_synth_linear)\n",
    "np.save('np_synth_labels.npy', np_synth_labels)\n",
    "\n",
    "# Save synthetic balanced train data\n",
    "np.savez('train_syn_data.npz', np_series_lstm=np_synth, np_estatico=np_synth_linear, label=np_synth_labels)\n",
    "\n"
   ]
  },
  {
   "cell_type": "code",
   "execution_count": null,
   "metadata": {},
   "outputs": [],
   "source": [
    "where_are_NaNs = np.isnan(np_synth_linear)\n",
    "np_synth_linear[where_are_NaNs] = 0\n",
    "x = np_synth_linear"
   ]
  },
  {
   "cell_type": "code",
   "execution_count": null,
   "metadata": {},
   "outputs": [],
   "source": [
    "# Generate t-SNE visualization\n",
    "from sklearn.manifold import TSNE\n",
    "\n",
    "tsne_evasao = TSNE(n_components=2, n_iter=1000, perplexity=100, verbose=2).fit_transform(x)"
   ]
  },
  {
   "cell_type": "code",
   "execution_count": null,
   "metadata": {},
   "outputs": [],
   "source": [
    "tsne_evasao_df = pd.DataFrame(data = tsne_evasao,\n",
    "                              columns = ['x', 'y'])\n",
    "\n",
    "tsne_evasao_df.tail()"
   ]
  },
  {
   "cell_type": "code",
   "execution_count": null,
   "metadata": {
    "pycharm": {
     "name": "#%%\n"
    },
    "scrolled": false
   },
   "outputs": [],
   "source": [
    "import matplotlib.pyplot as plt\n",
    "\n",
    "plt.figure()\n",
    "plt.figure(figsize=(10,10))\n",
    "plt.xticks(fontsize=12)\n",
    "plt.yticks(fontsize=14)\n",
    "plt.xlabel('component 1',fontsize=20)\n",
    "plt.ylabel('component 2',fontsize=20)\n",
    "plt.title(\"Preprocessed data t-SNE\",fontsize=20)\n",
    "targets_idx = [0, 1]\n",
    "targets_name = [\"Success\", \"Dropout\"]\n",
    "colors = ['green', 'blue']\n",
    "for target, color in zip(targets_idx, colors):\n",
    "    indicesToKeep = np_synth_labels == target\n",
    "    plt.scatter(tsne_evasao_df.loc[indicesToKeep, 'x'],\n",
    "                tsne_evasao_df.loc[indicesToKeep, 'y'], edgecolors=color, s = 10, alpha=0.5, facecolors='none')\n",
    "\n",
    "plt.legend(targets_name,prop={'size': 15})"
   ]
  },
  {
   "cell_type": "code",
   "execution_count": null,
   "metadata": {},
   "outputs": [],
   "source": []
  }
 ],
 "metadata": {
  "kernelspec": {
   "display_name": "Python 3",
   "language": "python",
   "name": "python3"
  },
  "language_info": {
   "codemirror_mode": {
    "name": "ipython",
    "version": 3
   },
   "file_extension": ".py",
   "mimetype": "text/x-python",
   "name": "python",
   "nbconvert_exporter": "python",
   "pygments_lexer": "ipython3",
   "version": "3.8.5"
  }
 },
 "nbformat": 4,
 "nbformat_minor": 4
}